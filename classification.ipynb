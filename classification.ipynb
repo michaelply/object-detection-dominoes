{
 "cells": [
  {
   "cell_type": "code",
   "execution_count": 1,
   "metadata": {},
   "outputs": [
    {
     "name": "stderr",
     "output_type": "stream",
     "text": [
      "/Users/Michael/anaconda3/lib/python3.6/site-packages/h5py/__init__.py:36: FutureWarning: Conversion of the second argument of issubdtype from `float` to `np.floating` is deprecated. In future, it will be treated as `np.float64 == np.dtype(float).type`.\n",
      "  from ._conv import register_converters as _register_converters\n"
     ]
    }
   ],
   "source": [
    "# Import modules\n",
    "import tensorflow as tf\n",
    "from tensorflow import keras\n",
    "# from tensorflow.keras.optimizers import SGD\n",
    "import numpy as np\n",
    "import matplotlib.pyplot as plt\n",
    "from PIL import Image\n",
    "import os\n",
    "import random\n",
    "from tensorflow.keras.models import Sequential\n",
    "from tensorflow.keras.layers import Dense, Conv2D, Flatten"
   ]
  },
  {
   "cell_type": "code",
   "execution_count": 2,
   "metadata": {},
   "outputs": [
    {
     "name": "stdout",
     "output_type": "stream",
     "text": [
      "['data/sky/IMG_6101.jpg', 'data/sky/IMG_6061.jpg', 'data/sky/IMG_6060.jpg', 'data/sky/IMG_6100.jpg']\n",
      "['data/people/IMG_6131.jpg', 'data/people/IMG_6079.jpg', 'data/people/IMG_6078.jpg', 'data/people/IMG_6130.jpg']\n"
     ]
    }
   ],
   "source": [
    "# Get direcotry path for each image\n",
    "def GetImagePathList(data_dir):\n",
    "    image_path_list = []\n",
    "    for foldername in os.listdir(data_dir):\n",
    "        if not foldername.startswith('.'):\n",
    "            path = data_dir + foldername + '/'\n",
    "            for filename in os.listdir(path):\n",
    "                if not filename.startswith('.'):\n",
    "                    image_path = path + filename\n",
    "                    image_path_list.append(image_path)\n",
    "    return image_path_list\n",
    "\n",
    "image_path_list = GetImagePathList('data/')\n",
    "\n",
    "print(image_path_list[:4]) # first 4 elements\n",
    "print(image_path_list[-4:]) # last 4 elements"
   ]
  },
  {
   "cell_type": "code",
   "execution_count": 3,
   "metadata": {},
   "outputs": [],
   "source": [
    "# Get train label from filepath directory\n",
    "def GetTrainLabel(image_path):\n",
    "    if 'sky' in image_path:\n",
    "        label = 0\n",
    "    elif 'earth' in image_path:\n",
    "        label = 1\n",
    "    elif 'people' in image_path:\n",
    "        label = 2\n",
    "    elif 'peace' in image_path:\n",
    "        label = 3\n",
    "    return label"
   ]
  },
  {
   "cell_type": "code",
   "execution_count": 4,
   "metadata": {},
   "outputs": [],
   "source": [
    "# Read image as numpy array given image path\n",
    "def ReadAndResizeImageAsNPArray(image_path_list, new_width=100, new_height=75):\n",
    "    images_array = np.zeros(shape=(100,new_height,new_width,3))\n",
    "    train_labels = np.zeros(shape=(100))\n",
    "    index = 0\n",
    "    for image_path in image_path_list:\n",
    "        pic = Image.open(image_path)\n",
    "        pic = pic.resize((new_width, new_height), Image.ANTIALIAS)\n",
    "        pix = np.array(pic)\n",
    "        label = GetTrainLabel(image_path)\n",
    "        images_array[index] = pix\n",
    "        train_labels[index] = label\n",
    "        index += 1\n",
    "    return images_array, train_labels\n",
    "        \n",
    "train_images, train_labels = ReadAndResizeImageAsNPArray(image_path_list, new_width=400, new_height=300)"
   ]
  },
  {
   "cell_type": "code",
   "execution_count": 28,
   "metadata": {},
   "outputs": [
    {
     "name": "stdout",
     "output_type": "stream",
     "text": [
      "(6, 8, 3)\n"
     ]
    }
   ],
   "source": [
    "# Testing\n",
    "pic = Image.open('data/sky/IMG_6061.jpg')\n",
    "pic = pic.resize((8, 6), Image.ANTIALIAS)\n",
    "pix = np.array(pic)\n",
    "print(pix.shape)"
   ]
  },
  {
   "cell_type": "code",
   "execution_count": 29,
   "metadata": {},
   "outputs": [
    {
     "name": "stdout",
     "output_type": "stream",
     "text": [
      "(100, 300, 400, 3)\n",
      "(100,)\n"
     ]
    },
    {
     "data": {
      "text/plain": [
       "array([0, 0, 0, 0, 0, 0, 0, 0, 0, 0, 0, 0, 0, 0, 0, 0, 0, 0, 0, 0, 0, 0,\n",
       "       0, 0, 0, 3, 3, 3, 3, 3, 3, 3, 3, 3, 3, 3, 3, 3, 3, 3, 3, 3, 3, 3,\n",
       "       3, 3, 3, 3, 3, 3, 1, 1, 1, 1, 1, 1, 1, 1, 1, 1, 1, 1, 1, 1, 1, 1,\n",
       "       1, 1, 1, 1, 1, 1, 1, 1, 1, 2, 2, 2, 2, 2, 2, 2, 2, 2, 2, 2, 2, 2,\n",
       "       2, 2, 2, 2, 2, 2, 2, 2, 2, 2, 2, 2])"
      ]
     },
     "execution_count": 29,
     "metadata": {},
     "output_type": "execute_result"
    }
   ],
   "source": [
    "# Print values to check\n",
    "print(train_images.shape)\n",
    "print(train_labels.shape)\n",
    "train_labels = train_labels.astype(int)\n",
    "train_labels"
   ]
  },
  {
   "cell_type": "code",
   "execution_count": 31,
   "metadata": {},
   "outputs": [
    {
     "name": "stdout",
     "output_type": "stream",
     "text": [
      "(100, 300, 400, 3)\n",
      "(100,)\n",
      "[0. 3. 1. 2. 2. 3. 3. 1. 3. 3. 1. 2. 2. 1. 2. 0. 3. 1. 3. 1. 3. 2. 2. 0.\n",
      " 0. 3. 1. 3. 3. 0. 0. 0. 2. 0. 1. 3. 2. 2. 1. 1. 0. 1. 3. 3. 2. 1. 0. 2.\n",
      " 1. 0. 0. 3. 0. 2. 1. 0. 1. 3. 1. 2. 0. 0. 2. 2. 0. 2. 1. 1. 3. 1. 2. 2.\n",
      " 1. 0. 3. 1. 2. 3. 0. 2. 1. 2. 3. 0. 2. 1. 3. 3. 2. 3. 0. 1. 3. 0. 3. 0.\n",
      " 1. 0. 2. 0.]\n"
     ]
    }
   ],
   "source": [
    "# Randomly shuffle training data\n",
    "random.seed(99999)\n",
    "shuffle_index = random.sample(range(100),100)\n",
    "train_images_shuffle = np.zeros(shape=(100,300,400,3))\n",
    "train_labels_shuffle = np.zeros(shape=(100))\n",
    "for i in range(100):\n",
    "    index = shuffle_index[i]\n",
    "    train_images_shuffle[i] = train_images[index]\n",
    "    train_labels_shuffle[i] = train_labels[index]\n",
    "print(train_images_shuffle.shape)\n",
    "print(train_labels_shuffle.shape)\n",
    "print(train_labels_shuffle)"
   ]
  },
  {
   "cell_type": "code",
   "execution_count": 32,
   "metadata": {},
   "outputs": [],
   "source": [
    "# For plot\n",
    "class_names = ['sky', 'earth', 'people', 'peace']"
   ]
  },
  {
   "cell_type": "code",
   "execution_count": 33,
   "metadata": {},
   "outputs": [],
   "source": [
    "train_images = train_images / 255.0\n",
    "train_images_shuffle = train_images_shuffle / 255.0"
   ]
  },
  {
   "cell_type": "code",
   "execution_count": 34,
   "metadata": {},
   "outputs": [],
   "source": [
    "#create model\n",
    "model = Sequential()\n",
    "\n",
    "#add model layers\n",
    "model.add(Conv2D(64, kernel_size=3, activation='relu', input_shape=(300,400,3)))\n",
    "model.add(Conv2D(32, kernel_size=3, activation='relu'))\n",
    "model.add(Flatten())\n",
    "model.add(Dense(4, activation='softmax'))"
   ]
  },
  {
   "cell_type": "code",
   "execution_count": 35,
   "metadata": {},
   "outputs": [],
   "source": [
    "model.compile(optimizer='adam',\n",
    "              loss='sparse_categorical_crossentropy',\n",
    "              metrics=['accuracy'])"
   ]
  },
  {
   "cell_type": "code",
   "execution_count": 36,
   "metadata": {},
   "outputs": [
    {
     "name": "stdout",
     "output_type": "stream",
     "text": [
      "Epoch 1/5\n",
      "100/100 [==============================] - 290s 3s/step - loss: 8.8344 - acc: 0.2500\n",
      "Epoch 2/5\n",
      "100/100 [==============================] - 153s 2s/step - loss: 12.0886 - acc: 0.2500\n",
      "Epoch 3/5\n",
      "100/100 [==============================] - 133s 1s/step - loss: 12.0886 - acc: 0.2500\n",
      "Epoch 4/5\n",
      "100/100 [==============================] - 130s 1s/step - loss: 12.0886 - acc: 0.2500\n",
      "Epoch 5/5\n",
      "100/100 [==============================] - 136s 1s/step - loss: 12.0886 - acc: 0.2500\n"
     ]
    },
    {
     "data": {
      "text/plain": [
       "<tensorflow.python.keras.callbacks.History at 0x1847adf828>"
      ]
     },
     "execution_count": 36,
     "metadata": {},
     "output_type": "execute_result"
    }
   ],
   "source": [
    "model.fit(train_images_shuffle, train_labels_shuffle, epochs=5)"
   ]
  },
  {
   "cell_type": "code",
   "execution_count": null,
   "metadata": {},
   "outputs": [],
   "source": []
  }
 ],
 "metadata": {
  "kernelspec": {
   "display_name": "Python 3",
   "language": "python",
   "name": "python3"
  },
  "language_info": {
   "codemirror_mode": {
    "name": "ipython",
    "version": 3
   },
   "file_extension": ".py",
   "mimetype": "text/x-python",
   "name": "python",
   "nbconvert_exporter": "python",
   "pygments_lexer": "ipython3",
   "version": "3.6.4"
  }
 },
 "nbformat": 4,
 "nbformat_minor": 2
}
