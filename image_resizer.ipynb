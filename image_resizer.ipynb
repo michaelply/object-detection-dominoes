{
 "cells": [
  {
   "cell_type": "code",
   "execution_count": 2,
   "metadata": {},
   "outputs": [],
   "source": [
    "from PIL import Image\n",
    "import os"
   ]
  },
  {
   "cell_type": "code",
   "execution_count": 3,
   "metadata": {},
   "outputs": [],
   "source": [
    "Image.MAX_IMAGE_PIXELS = None"
   ]
  },
  {
   "cell_type": "code",
   "execution_count": 7,
   "metadata": {
    "scrolled": true
   },
   "outputs": [
    {
     "name": "stdout",
     "output_type": "stream",
     "text": [
      "/Users/michaelpoon/Desktop/tensorflow/models/research/object_detection/image/\n"
     ]
    }
   ],
   "source": [
    "cwd_path = os.getcwd()\n",
    "image_directory = cwd_path + \"/image/\"\n",
    "image_directory_resize = cwd_path + \"/image_resize/\"\n",
    "print(image_directory)"
   ]
  },
  {
   "cell_type": "code",
   "execution_count": 8,
   "metadata": {},
   "outputs": [],
   "source": [
    "error = []"
   ]
  },
  {
   "cell_type": "code",
   "execution_count": null,
   "metadata": {},
   "outputs": [],
   "source": [
    "try:\n",
    "    for filename in os.listdir(image_png_directory):\n",
    "        im = Image.open(image_directory + filename)\n",
    "        x_size = im.tile[-1][1][2]\n",
    "        y_size = im.tile[-1][1][3]\n",
    "\n",
    "        im_resize = im.resize((x_size/2,y_size/2)\n",
    "        new_filename = image_directory_resize + os.path.splitext(filename)[0] + '.jpg'\n",
    "        im.save(new_filename, optimize=True)\n",
    "except Exception as err:\n",
    "    error.append(err)\n",
    "    continue"
   ]
  },
  {
   "cell_type": "code",
   "execution_count": null,
   "metadata": {},
   "outputs": [],
   "source": [
    "print(error)"
   ]
  }
 ],
 "metadata": {
  "kernelspec": {
   "display_name": "Python 3",
   "language": "python",
   "name": "python3"
  },
  "language_info": {
   "codemirror_mode": {
    "name": "ipython",
    "version": 3
   },
   "file_extension": ".py",
   "mimetype": "text/x-python",
   "name": "python",
   "nbconvert_exporter": "python",
   "pygments_lexer": "ipython3",
   "version": "3.8.5"
  }
 },
 "nbformat": 4,
 "nbformat_minor": 4
}
